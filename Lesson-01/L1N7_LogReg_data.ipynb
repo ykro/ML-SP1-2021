{
  "nbformat": 4,
  "nbformat_minor": 0,
  "metadata": {
    "colab": {
      "name": "L1N7 - LogReg data.ipynb",
      "provenance": [],
      "authorship_tag": "ABX9TyMZwDH+fiGiE4iKe/oZrMKi",
      "include_colab_link": true
    },
    "kernelspec": {
      "name": "python3",
      "display_name": "Python 3"
    }
  },
  "cells": [
    {
      "cell_type": "markdown",
      "metadata": {
        "id": "view-in-github",
        "colab_type": "text"
      },
      "source": [
        "<a href=\"https://colab.research.google.com/github/ykro/ML-SP1-2021/blob/main/L1N7_LogReg_data.ipynb\" target=\"_parent\"><img src=\"https://colab.research.google.com/assets/colab-badge.svg\" alt=\"Open In Colab\"/></a>"
      ]
    },
    {
      "cell_type": "code",
      "metadata": {
        "colab": {
          "base_uri": "https://localhost:8080/"
        },
        "id": "ndFxsM0yvOr7",
        "outputId": "f081c5d7-0bf8-4c70-e703-94761d6dac7f"
      },
      "source": [
        "import tensorflow as tf\n",
        "from tensorflow.keras.layers import Dense\n",
        "from tensorflow.keras.models import Sequential\n",
        "\n",
        "import numpy as np\n",
        "import matplotlib.pyplot as plt\n",
        "\n",
        "seed=1234\n",
        "np.random.seed(seed)\n",
        "tf.random.set_seed(seed)\n",
        "\n",
        "#dark theme\n",
        "plt.rc_context({'xtick.color':'w', 'ytick.color':'w', 'text.color':'w', 'axes.labelcolor':'w'})"
      ],
      "execution_count": 1,
      "outputs": [
        {
          "output_type": "execute_result",
          "data": {
            "text/plain": [
              "<matplotlib.rc_context at 0x7f8636d22860>"
            ]
          },
          "metadata": {
            "tags": []
          },
          "execution_count": 1
        }
      ]
    },
    {
      "cell_type": "code",
      "metadata": {
        "colab": {
          "base_uri": "https://localhost:8080/"
        },
        "id": "gi8XDE68wg20",
        "outputId": "f766fcc2-9ac6-4713-b850-45bdac58d6a9"
      },
      "source": [
        "n = 100\n",
        "half = n//2\n",
        "dimen = 2\n",
        "offset = 5\n",
        "\n",
        "X = np.random.rand(n, dimen)*offset\n",
        "X[:half, :] = X[:half, :] - offset*np.ones((half, dimen))\n",
        "X[half:, :] = X[half:, :] + offset*np.ones((half, dimen))\n",
        "\n",
        "X = np.around(X, decimals=2)\n",
        "print(X)"
      ],
      "execution_count": 2,
      "outputs": [
        {
          "output_type": "stream",
          "text": [
            "[[-4.04 -1.89]\n",
            " [-2.81 -1.07]\n",
            " [-1.1  -3.64]\n",
            " [-3.62 -0.99]\n",
            " [-0.21 -0.62]\n",
            " [-3.21 -2.5 ]\n",
            " [-1.58 -1.44]\n",
            " [-3.15 -2.19]\n",
            " [-2.48 -4.93]\n",
            " [-1.14 -0.59]\n",
            " [-3.18 -1.92]\n",
            " [-4.62 -3.16]\n",
            " [-0.33 -1.74]\n",
            " [-3.01 -1.06]\n",
            " [-3.42 -2.16]\n",
            " [-0.65 -2.82]\n",
            " [-0.99 -4.28]\n",
            " [-1.48 -1.48]\n",
            " [-3.91 -0.38]\n",
            " [-2.79 -0.45]\n",
            " [-4.7  -4.08]\n",
            " [-4.76 -1.63]\n",
            " [-2.03 -2.33]\n",
            " [-4.78 -2.19]\n",
            " [-3.35 -2.49]\n",
            " [-4.44 -1.96]\n",
            " [-2.17 -4.97]\n",
            " [-1.91 -0.44]\n",
            " [-1.05 -0.04]\n",
            " [-0.21 -1.04]\n",
            " [-3.57 -1.88]\n",
            " [-2.61 -4.02]\n",
            " [-3.09 -4.73]\n",
            " [-2.74 -0.09]\n",
            " [-4.38 -4.4 ]\n",
            " [-1.31 -2.06]\n",
            " [-2.64 -4.46]\n",
            " [-3.85 -0.5 ]\n",
            " [-2.92 -2.32]\n",
            " [-4.97 -3.5 ]\n",
            " [-2.82 -1.94]\n",
            " [-0.41 -1.87]\n",
            " [-1.47 -4.25]\n",
            " [-1.27 -0.84]\n",
            " [-1.83 -2.81]\n",
            " [-4.24 -2.16]\n",
            " [-2.36 -0.24]\n",
            " [-2.6  -2.49]\n",
            " [-2.32 -0.9 ]\n",
            " [-4.71 -1.65]\n",
            " [ 8.84  8.54]\n",
            " [ 8.98  7.79]\n",
            " [ 9.83  5.74]\n",
            " [ 5.15  7.97]\n",
            " [ 5.57  9.75]\n",
            " [ 6.63  5.97]\n",
            " [ 7.29  9.6 ]\n",
            " [ 9.4   6.26]\n",
            " [ 6.74  5.91]\n",
            " [ 9.51  8.53]\n",
            " [ 8.63  9.5 ]\n",
            " [ 8.9   8.  ]\n",
            " [ 6.46  5.76]\n",
            " [ 6.68  8.29]\n",
            " [ 5.37  5.28]\n",
            " [ 6.62  7.95]\n",
            " [ 9.27  6.44]\n",
            " [ 5.87  5.67]\n",
            " [ 9.97  5.9 ]\n",
            " [ 6.59  7.84]\n",
            " [ 5.05  9.5 ]\n",
            " [ 9.89  7.78]\n",
            " [ 5.42  6.67]\n",
            " [ 8.64  5.71]\n",
            " [ 7.76  6.37]\n",
            " [ 9.87  8.34]\n",
            " [ 6.28  5.54]\n",
            " [ 8.88  8.91]\n",
            " [ 8.81  9.57]\n",
            " [ 8.29  7.84]\n",
            " [ 6.01  8.49]\n",
            " [ 9.76  9.45]\n",
            " [ 9.97  9.09]\n",
            " [ 7.73  7.26]\n",
            " [ 9.45  9.87]\n",
            " [ 7.97  6.83]\n",
            " [ 6.62  9.36]\n",
            " [ 6.08  8.67]\n",
            " [ 6.83  9.01]\n",
            " [ 8.91  8.51]\n",
            " [ 8.11  7.47]\n",
            " [ 9.2   8.56]\n",
            " [ 7.22  5.16]\n",
            " [ 6.82  8.65]\n",
            " [ 7.38  6.72]\n",
            " [ 8.2   5.63]\n",
            " [ 5.86  8.69]\n",
            " [ 5.64  6.85]\n",
            " [ 8.02  5.52]\n",
            " [ 9.01  9.73]]\n"
          ],
          "name": "stdout"
        }
      ]
    },
    {
      "cell_type": "code",
      "metadata": {
        "colab": {
          "base_uri": "https://localhost:8080/"
        },
        "id": "MWjArHBlxEAo",
        "outputId": "8683d309-65e9-4c80-dcd9-7fb969bcd384"
      },
      "source": [
        "Y = np.array([0]*half + [1]*half)\n",
        "print(Y)"
      ],
      "execution_count": 3,
      "outputs": [
        {
          "output_type": "stream",
          "text": [
            "[0 0 0 0 0 0 0 0 0 0 0 0 0 0 0 0 0 0 0 0 0 0 0 0 0 0 0 0 0 0 0 0 0 0 0 0 0\n",
            " 0 0 0 0 0 0 0 0 0 0 0 0 0 1 1 1 1 1 1 1 1 1 1 1 1 1 1 1 1 1 1 1 1 1 1 1 1\n",
            " 1 1 1 1 1 1 1 1 1 1 1 1 1 1 1 1 1 1 1 1 1 1 1 1 1 1]\n"
          ],
          "name": "stdout"
        }
      ]
    },
    {
      "cell_type": "code",
      "metadata": {
        "colab": {
          "base_uri": "https://localhost:8080/",
          "height": 282
        },
        "id": "h26kUMuWxKc2",
        "outputId": "556857c1-a0d0-4c7c-fb59-93baf8d2b154"
      },
      "source": [
        "colors = np.array(['blue','red'])\n",
        "plt.scatter(X[:,0], X[:,1], c=colors[Y], s=75, alpha=0.6)"
      ],
      "execution_count": 5,
      "outputs": [
        {
          "output_type": "execute_result",
          "data": {
            "text/plain": [
              "<matplotlib.collections.PathCollection at 0x7f85f27a2b00>"
            ]
          },
          "metadata": {
            "tags": []
          },
          "execution_count": 5
        },
        {
          "output_type": "display_data",
          "data": {
            "image/png": "[encoded data removed]",
            "text/plain": [
              "<Figure size 432x288 with 1 Axes>"
            ]
          },
          "metadata": {
            "tags": [],
            "needs_background": "dark"
          }
        }
      ]
    }
  ]
}
